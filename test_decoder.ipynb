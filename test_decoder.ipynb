{
 "cells": [
  {
   "cell_type": "code",
   "execution_count": 20,
   "metadata": {},
   "outputs": [],
   "source": [
    "import os\n",
    "import time\n",
    "import torch\n",
    "import numpy as np\n",
    "\n",
    "import numpy as np\n",
    "import matplotlib.pyplot as plt\n",
    "import os\n",
    "import vedo\n",
    "import time\n",
    "import torch\n",
    "import torch.nn.functional as F\n",
    "import napari\n",
    "\n",
    "from collections import OrderedDict\n",
    "from modules.click_attention import ClickAttention\n",
    "from modules.decoder import Decoder"
   ]
  },
  {
   "cell_type": "code",
   "execution_count": 21,
   "metadata": {},
   "outputs": [],
   "source": [
    "device = torch.device(\"cuda\" if torch.cuda.is_available() else \"cpu\")"
   ]
  },
  {
   "cell_type": "code",
   "execution_count": 3,
   "metadata": {},
   "outputs": [],
   "source": [
    "def load_state_dict(model, state_dict):\n",
    "    try:\n",
    "        model.load_state_dict(state_dict)\n",
    "    except RuntimeError:\n",
    "        # train on multiple gpus and test on a single gpu. remove 'module' prefix form variable names\n",
    "        dict_wo_module_prefix = OrderedDict([(\".\".join(k.split(\".\")[1:]), v) for k, v in state_dict.items()])\n",
    "        model.load_state_dict(dict_wo_module_prefix)\n",
    "\n",
    "def save_loss(loss, dir, name=None):\n",
    "    plt.figure()\n",
    "    plt.plot(loss)\n",
    "    plt.yscale('log')\n",
    "    plt.xlabel('Epoch')\n",
    "    plt.ylabel('Loss')\n",
    "\n",
    "    # Ensure the directory exists\n",
    "    os.makedirs(dir, exist_ok=True)\n",
    "\n",
    "    # Save the figure\n",
    "    if name is not None:\n",
    "        plt.title(name+' over time')\n",
    "        plt.savefig(os.path.join(dir, name+'.jpg'))\n",
    "        plt.close()\n",
    "    else:\n",
    "        plt.title('Loss over time')\n",
    "        plt.savefig(os.path.join(dir, 'loss.jpg'))\n",
    "        plt.close()\n",
    "\n",
    "\n",
    "def load_features(encoder_f_path):\n",
    "    # load features\n",
    "    pred_f = torch.load(encoder_f_path)\n",
    "    return pred_f\n",
    "\n",
    "\n",
    "def masked_bce_loss(y_pred, y_true, mask):\n",
    "    # Compute the raw BCE loss term-wise\n",
    "    bce = F.binary_cross_entropy(y_pred, F.one_hot(y_true.long(), num_classes=2).squeeze(1).permute(0, 3, 1, 2).float(), reduction='none')\n",
    "    mask = torch.cat((mask.unsqueeze(1), mask.unsqueeze(1)), dim=1)\n",
    "    # Apply the mask\n",
    "    masked_bce = bce * mask\n",
    "    \n",
    "    # Compute the mean of the masked BCE values\n",
    "    loss = masked_bce.sum() / mask.sum()\n",
    "    return loss\n",
    "\n",
    "def fix_state_dict(state_dict):\n",
    "    \"\"\"Fixes the state dictionary by removing 'module.' prefix.\"\"\"\n",
    "    new_state_dict = {k.replace('module.', ''): v for k, v in state_dict.items()}\n",
    "    return new_state_dict"
   ]
  },
  {
   "cell_type": "code",
   "execution_count": 13,
   "metadata": {},
   "outputs": [],
   "source": [
    "def test_decoder(test_index,\n",
    "                 depth,\n",
    "                 width,\n",
    "                 device,\n",
    "                 positional_encoding,\n",
    "                 sigma,\n",
    "                 save_dir,\n",
    "                 model_name,\n",
    "                 encoder_f_path,\n",
    "                 feature_dim=256,\n",
    "                 use_attention_k=True,\n",
    "                 use_attention_q=True,\n",
    "                 use_attention_v=True,\n",
    "                 residual_attention=True,\n",
    "                 scale_attention=True):\n",
    "    print('test decoder')\n",
    "\n",
    "    # Create an instance of ClickAttention with the new keyword arguments\n",
    "    attention = ClickAttention(\n",
    "        feature_dim=feature_dim,\n",
    "        use_attention_q=use_attention_q,\n",
    "        use_attention_k=use_attention_k,\n",
    "        use_attention_v=use_attention_v,\n",
    "        residual_attention=residual_attention,\n",
    "        scale_attention=scale_attention\n",
    "    ).to(device)\n",
    "\n",
    "    mlp = Decoder(depth=depth, width=[512] + [256] * depth, out_dim=2, input_dim=512, positional_encoding=positional_encoding,\n",
    "                  sigma=sigma).to(device)\n",
    "    \n",
    "    save_path = os.path.join(save_dir, model_name)\n",
    "    print('decoder checkpoint path: %s' % save_path)\n",
    "    \n",
    "    checkpoint = torch.load(save_path, map_location=device)\n",
    "    attention.load_state_dict(fix_state_dict(checkpoint['attention_state_dict']))\n",
    "    mlp.load_state_dict(fix_state_dict(checkpoint['model_state_dict']))\n",
    "\n",
    "    # Read learned 3D features\n",
    "    pred_f = load_features(encoder_f_path)\n",
    "\n",
    "    if len(test_index.shape) == 1:\n",
    "        test_index = test_index.unsqueeze(0)\n",
    "    \n",
    "    batch_size = test_index.shape[0]\n",
    "    \n",
    "    feature_field_batch = pred_f.unsqueeze(0).expand(batch_size, -1, -1)\n",
    "    weighted_vals = attention(feature_field_batch, test_index)\n",
    "    input_tensor = torch.cat((feature_field_batch, weighted_vals), dim=-1)\n",
    "            \n",
    "    # MLP\n",
    "    prob_tensor = mlp(input_tensor)\n",
    "\n",
    "    # Save vertex probability\n",
    "    return prob_tensor.detach().cpu().numpy().astype(np.float32)\n",
    "\n",
    "# Append to the existing files or create them if they don't exist\n",
    "def save_or_append(filename, data):\n",
    "    if os.path.exists(filename):\n",
    "        existing_data = torch.load(filename, map_location=device)\n",
    "        if len(data.shape)<len(existing_data.shape):\n",
    "            combined_data = torch.cat([existing_data, data.unsqueeze(0)])\n",
    "        else:\n",
    "            combined_data = torch.cat([existing_data, data])\n",
    "        torch.save(combined_data, filename)\n",
    "    else:\n",
    "        torch.save(data, filename)\n"
   ]
  },
  {
   "cell_type": "code",
   "execution_count": 17,
   "metadata": {},
   "outputs": [
    {
     "name": "stdout",
     "output_type": "stream",
     "text": [
      "test decoder\n",
      "ModuleList(\n",
      "  (0): Linear(in_features=512, out_features=512, bias=True)\n",
      "  (1): ReLU()\n",
      "  (2): LayerNorm((512,), eps=1e-05, elementwise_affine=True)\n",
      "  (3): Linear(in_features=512, out_features=256, bias=True)\n",
      "  (4): ReLU()\n",
      "  (5): LayerNorm((256,), eps=1e-05, elementwise_affine=True)\n",
      "  (6): Linear(in_features=256, out_features=256, bias=True)\n",
      "  (7): ReLU()\n",
      "  (8): LayerNorm((256,), eps=1e-05, elementwise_affine=True)\n",
      "  (9): Linear(in_features=256, out_features=256, bias=True)\n",
      "  (10): ReLU()\n",
      "  (11): LayerNorm((256,), eps=1e-05, elementwise_affine=True)\n",
      "  (12): Linear(in_features=256, out_features=256, bias=True)\n",
      "  (13): ReLU()\n",
      "  (14): LayerNorm((256,), eps=1e-05, elementwise_affine=True)\n",
      "  (15): Linear(in_features=256, out_features=256, bias=True)\n",
      "  (16): ReLU()\n",
      "  (17): LayerNorm((256,), eps=1e-05, elementwise_affine=True)\n",
      "  (18): Linear(in_features=256, out_features=256, bias=True)\n",
      "  (19): ReLU()\n",
      "  (20): LayerNorm((256,), eps=1e-05, elementwise_affine=True)\n",
      "  (21): Linear(in_features=256, out_features=256, bias=True)\n",
      "  (22): ReLU()\n",
      "  (23): LayerNorm((256,), eps=1e-05, elementwise_affine=True)\n",
      "  (24): Linear(in_features=256, out_features=256, bias=True)\n",
      "  (25): ReLU()\n",
      "  (26): LayerNorm((256,), eps=1e-05, elementwise_affine=True)\n",
      "  (27): Linear(in_features=256, out_features=256, bias=True)\n",
      "  (28): ReLU()\n",
      "  (29): LayerNorm((256,), eps=1e-05, elementwise_affine=True)\n",
      "  (30): Linear(in_features=256, out_features=256, bias=True)\n",
      "  (31): ReLU()\n",
      "  (32): LayerNorm((256,), eps=1e-05, elementwise_affine=True)\n",
      "  (33): Linear(in_features=256, out_features=256, bias=True)\n",
      "  (34): ReLU()\n",
      "  (35): LayerNorm((256,), eps=1e-05, elementwise_affine=True)\n",
      "  (36): Linear(in_features=256, out_features=256, bias=True)\n",
      "  (37): ReLU()\n",
      "  (38): LayerNorm((256,), eps=1e-05, elementwise_affine=True)\n",
      "  (39): Linear(in_features=256, out_features=256, bias=True)\n",
      "  (40): ReLU()\n",
      "  (41): LayerNorm((256,), eps=1e-05, elementwise_affine=True)\n",
      "  (42): Linear(in_features=256, out_features=256, bias=True)\n",
      "  (43): ReLU()\n",
      "  (44): LayerNorm((256,), eps=1e-05, elementwise_affine=True)\n",
      "  (45): Linear(in_features=256, out_features=2, bias=True)\n",
      "  (46): Softmax(dim=-1)\n",
      ")\n",
      "decoder checkpoint path: ./demo/hammer/decoder/decoder_checkpoint.pth\n",
      "inference time: 0.02 seconds\n"
     ]
    }
   ],
   "source": [
    "# Define parameters directly\n",
    "seed = 0\n",
    "obj_path = './meshes/hammer.obj'\n",
    "encoder_f_path = './demo/hammer/encoder/pred_f.pth'\n",
    "decoder_data_dir = './data/hammer/decoder_data'\n",
    "save_dir = './demo/hammer/decoder/'\n",
    "model_name = 'decoder_checkpoint.pth'\n",
    "use_positive_click = 0\n",
    "use_negative_click = 0\n",
    "name = 'hammer'\n",
    "data_percentage = 1.0\n",
    "views_per_vert = 100\n",
    "background = [1., 1., 1.]\n",
    "n_views = 1\n",
    "frontview_std = 4\n",
    "frontview_center = [3.14, 0.]\n",
    "render_res = 224\n",
    "use_attention_q = 1\n",
    "use_attention_k = 1\n",
    "use_attention_v = 1\n",
    "redsidual_attention = 0\n",
    "scale_attention = 1\n",
    "continue_train = 0\n",
    "depth = 14\n",
    "width = 256\n",
    "n_classes = 256  # 256 channels for SAM embedding feature\n",
    "positional_encoding = False\n",
    "sigma = 5.0\n",
    "batch_size = 16\n",
    "learning_rate = 0.0001\n",
    "num_epochs = 5\n",
    "save_interval = 100\n",
    "return_original = 0\n",
    "use_data_parallel = 0\n",
    "mode = 'test'\n",
    "select_vertices = [5000]\n",
    "show = 0\n",
    "base_color = [180, 180, 180]\n",
    "show_seg = 1\n",
    "seg_color = [60, 160, 250]\n",
    "show_spheres = 0\n",
    "sphere_radius = 0.025\n",
    "pos_color = [0, 255, 0]\n",
    "neg_color = [255, 0, 0]\n",
    "\n",
    "# Load mesh object\n",
    "mesh = vedo.load(obj_path)\n",
    "\n",
    "# Create decoder directory if it does not exist\n",
    "if not os.path.exists(save_dir):\n",
    "    os.makedirs(save_dir, exist_ok=True)\n",
    "    \n",
    "test_index = torch.tensor(select_vertices)\n",
    "probabilities = test_decoder(\n",
    "    test_index=test_index,\n",
    "    depth=depth,\n",
    "    width=width,\n",
    "    device=device,\n",
    "    positional_encoding=positional_encoding,\n",
    "    sigma=sigma,\n",
    "    use_data_parallel=use_data_parallel,\n",
    "    save_dir=save_dir,\n",
    "    model_name=model_name,\n",
    "    encoder_f_path=encoder_f_path,\n",
    "    feature_dim=n_classes,\n",
    "    use_attention_k=use_attention_k,\n",
    "    use_attention_q=use_attention_q,\n",
    "    use_attention_v=use_attention_v,\n",
    "    residual_attention=redsidual_attention,\n",
    "    scale_attention=scale_attention\n",
    ")\n",
    "    "
   ]
  },
  {
   "cell_type": "code",
   "execution_count": 7,
   "metadata": {},
   "outputs": [],
   "source": [
    "viewer = napari.Viewer()"
   ]
  },
  {
   "cell_type": "code",
   "execution_count": 9,
   "metadata": {},
   "outputs": [
    {
     "data": {
      "text/plain": [
       "<Surface layer 'Surface' at 0x1c502f405b0>"
      ]
     },
     "execution_count": 9,
     "metadata": {},
     "output_type": "execute_result"
    }
   ],
   "source": [
    "viewer.add_surface((mesh.vertices, np.asarray(mesh.cells)))"
   ]
  },
  {
   "cell_type": "code",
   "execution_count": 18,
   "metadata": {},
   "outputs": [
    {
     "data": {
      "text/plain": [
       "(1, 11595, 2)"
      ]
     },
     "execution_count": 18,
     "metadata": {},
     "output_type": "execute_result"
    }
   ],
   "source": [
    "probabilities.shape"
   ]
  },
  {
   "cell_type": "code",
   "execution_count": 12,
   "metadata": {},
   "outputs": [
    {
     "data": {
      "text/plain": [
       "23128"
      ]
     },
     "execution_count": 12,
     "metadata": {},
     "output_type": "execute_result"
    }
   ],
   "source": [
    "len(mesh.cells)"
   ]
  },
  {
   "cell_type": "code",
   "execution_count": 16,
   "metadata": {},
   "outputs": [
    {
     "data": {
      "text/plain": [
       "(69384, 3)"
      ]
     },
     "execution_count": 16,
     "metadata": {},
     "output_type": "execute_result"
    }
   ],
   "source": [
    "mesh.vertices.shape"
   ]
  },
  {
   "cell_type": "code",
   "execution_count": 23,
   "metadata": {},
   "outputs": [
    {
     "data": {
      "text/plain": [
       "69384"
      ]
     },
     "execution_count": 23,
     "metadata": {},
     "output_type": "execute_result"
    }
   ],
   "source": [
    "len(mesh.edges)"
   ]
  },
  {
   "cell_type": "code",
   "execution_count": null,
   "metadata": {},
   "outputs": [],
   "source": []
  }
 ],
 "metadata": {
  "kernelspec": {
   "display_name": "iseg",
   "language": "python",
   "name": "python3"
  },
  "language_info": {
   "codemirror_mode": {
    "name": "ipython",
    "version": 3
   },
   "file_extension": ".py",
   "mimetype": "text/x-python",
   "name": "python",
   "nbconvert_exporter": "python",
   "pygments_lexer": "ipython3",
   "version": "3.9.19"
  }
 },
 "nbformat": 4,
 "nbformat_minor": 2
}
